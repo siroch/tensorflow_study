{
 "cells": [
  {
   "cell_type": "code",
   "execution_count": 1,
   "metadata": {},
   "outputs": [
    {
     "name": "stdout",
     "output_type": "stream",
     "text": [
      "WARNING:tensorflow:From /usr/local/lib/python3.8/site-packages/tensorflow/python/compat/v2_compat.py:96: disable_resource_variables (from tensorflow.python.ops.variable_scope) is deprecated and will be removed in a future version.\n",
      "Instructions for updating:\n",
      "non-resource variables are not supported in the long term\n"
     ]
    }
   ],
   "source": [
    "import tensorflow.compat.v1 as tf\n",
    "import numpy as np\n",
    "tf.disable_v2_behavior() \n",
    "tf.set_random_seed(777)"
   ]
  },
  {
   "cell_type": "code",
   "execution_count": 2,
   "metadata": {},
   "outputs": [],
   "source": [
    "x_data = np.array([[0, 0], [0, 1], [1, 0], [1, 1]], dtype=np.float32)\n",
    "y_data = np.array([[0], [1], [1], [0]], dtype=np.float32)"
   ]
  },
  {
   "cell_type": "code",
   "execution_count": 3,
   "metadata": {},
   "outputs": [],
   "source": [
    "X = tf.placeholder(tf.float32, [None, 2], name=\"x\")\n",
    "Y = tf.placeholder(tf.float32, [None, 1], name=\"y\")"
   ]
  },
  {
   "cell_type": "code",
   "execution_count": 4,
   "metadata": {},
   "outputs": [],
   "source": [
    "with tf.name_scope(\"Layer1\"):\n",
    "    W1 = tf.Variable(tf.random_normal([2, 2]), name=\"weight_1\")\n",
    "    b1 = tf.Variable(tf.random_normal([2]), name=\"bias_1\")\n",
    "    layer1 = tf.sigmoid(tf.matmul(X, W1) + b1)\n",
    "\n",
    "    tf.summary.histogram(\"W1\", W1)\n",
    "    tf.summary.histogram(\"b1\", b1)\n",
    "    tf.summary.histogram(\"Layer1\", layer1)"
   ]
  },
  {
   "cell_type": "code",
   "execution_count": 5,
   "metadata": {},
   "outputs": [],
   "source": [
    "with tf.name_scope(\"Layer2\"):\n",
    "    W2 = tf.Variable(tf.random_normal([2, 1]), name=\"weight_2\")\n",
    "    b2 = tf.Variable(tf.random_normal([1]), name=\"bias_2\")\n",
    "    hypothesis = tf.sigmoid(tf.matmul(layer1, W2) + b2)\n",
    "\n",
    "    tf.summary.histogram(\"W2\", W2)\n",
    "    tf.summary.histogram(\"b2\", b2)\n",
    "    tf.summary.histogram(\"Hypothesis\", hypothesis)"
   ]
  },
  {
   "cell_type": "code",
   "execution_count": 6,
   "metadata": {},
   "outputs": [],
   "source": [
    "with tf.name_scope(\"Cost\"):\n",
    "    cost = -tf.reduce_mean(Y * tf.log(hypothesis) + (1 - Y) * tf.log(1 - hypothesis))\n",
    "    tf.summary.scalar(\"Cost\", cost)"
   ]
  },
  {
   "cell_type": "code",
   "execution_count": 7,
   "metadata": {},
   "outputs": [],
   "source": [
    "with tf.name_scope(\"Train\"):\n",
    "    train = tf.train.AdamOptimizer(learning_rate=0.01).minimize(cost)"
   ]
  },
  {
   "cell_type": "code",
   "execution_count": 8,
   "metadata": {},
   "outputs": [
    {
     "data": {
      "text/plain": [
       "<tf.Tensor 'accuracy:0' shape=() dtype=string>"
      ]
     },
     "execution_count": 8,
     "metadata": {},
     "output_type": "execute_result"
    }
   ],
   "source": [
    "predicted = tf.cast(hypothesis > 0.5, dtype=tf.float32)\n",
    "accuracy = tf.reduce_mean(tf.cast(tf.equal(predicted, Y), dtype=tf.float32))\n",
    "tf.summary.scalar(\"accuracy\", accuracy)"
   ]
  },
  {
   "cell_type": "code",
   "execution_count": 9,
   "metadata": {},
   "outputs": [
    {
     "name": "stdout",
     "output_type": "stream",
     "text": [
      "0 0.9766817\n",
      "100 0.6973129\n",
      "200 0.6837992\n",
      "300 0.65413475\n",
      "400 0.6042637\n",
      "500 0.54886097\n",
      "600 0.4519405\n",
      "700 0.325727\n",
      "800 0.24197227\n",
      "900 0.18764955\n",
      "1000 0.15020137\n",
      "1100 0.12321481\n",
      "1200 0.10306987\n",
      "1300 0.087591805\n",
      "1400 0.07541142\n",
      "1500 0.06563176\n",
      "1600 0.05764519\n",
      "1700 0.05102714\n",
      "1800 0.04547393\n",
      "1900 0.040762823\n",
      "2000 0.03672759\n",
      "2100 0.033241916\n",
      "2200 0.030208223\n",
      "2300 0.027550017\n",
      "2400 0.025206637\n",
      "2500 0.023129486\n",
      "2600 0.021279294\n",
      "2700 0.019623753\n",
      "2800 0.018136278\n",
      "2900 0.016794859\n",
      "3000 0.015580859\n",
      "3100 0.014478854\n",
      "3200 0.013475407\n",
      "3300 0.0125593\n",
      "3400 0.011720791\n",
      "3500 0.010951576\n",
      "3600 0.010244344\n",
      "3700 0.009592818\n",
      "3800 0.008991537\n",
      "3900 0.008435491\n",
      "4000 0.007920572\n",
      "4100 0.007443002\n",
      "4200 0.0069993488\n",
      "4300 0.006586681\n",
      "4400 0.006202409\n",
      "4500 0.005844054\n",
      "4600 0.0055095623\n",
      "4700 0.005197051\n",
      "4800 0.0049046557\n",
      "4900 0.0046309205\n",
      "5000 0.004374436\n",
      "5100 0.004133841\n",
      "5200 0.0039080475\n",
      "5300 0.0036959655\n",
      "5400 0.0034966301\n",
      "5500 0.0033091353\n",
      "5600 0.0031327119\n",
      "5700 0.0029665018\n",
      "5800 0.0028099306\n",
      "5900 0.0026623367\n",
      "6000 0.0025231184\n",
      "6100 0.002391734\n",
      "6200 0.0022677018\n",
      "6300 0.0021505714\n",
      "6400 0.002039832\n",
      "6500 0.0019352429\n",
      "6600 0.0018363091\n",
      "6700 0.0017427452\n",
      "6800 0.001654221\n",
      "6900 0.001570407\n",
      "7000 0.0014910632\n",
      "7100 0.0014159193\n",
      "7200 0.001344751\n",
      "7300 0.0012773185\n",
      "7400 0.0012134268\n",
      "7500 0.0011528666\n",
      "7600 0.0010953984\n",
      "7700 0.0010408876\n",
      "7800 0.000989199\n",
      "7900 0.0009401685\n",
      "8000 0.00089367613\n",
      "8100 0.00084952766\n",
      "8200 0.0008076333\n",
      "8300 0.00076784356\n",
      "8400 0.0007300837\n",
      "8500 0.00069418934\n",
      "8600 0.0006601304\n",
      "8700 0.0006278174\n",
      "8800 0.00059710094\n",
      "8900 0.0005678467\n",
      "9000 0.000540144\n",
      "9100 0.0005137392\n",
      "9200 0.00048870675\n",
      "9300 0.00046491236\n",
      "9400 0.00044228148\n",
      "9500 0.00042073935\n",
      "9600 0.00040028602\n",
      "9700 0.00038086172\n",
      "9800 0.0003623322\n",
      "9900 0.00034480184\n",
      "10000 0.000328032\n",
      "\n",
      "Hypothesis:\n",
      "[[2.4896860e-04]\n",
      " [9.9958813e-01]\n",
      " [9.9958563e-01]\n",
      " [2.3627281e-04]] \n",
      "Predicted:\n",
      "[[0.]\n",
      " [1.]\n",
      " [1.]\n",
      " [0.]] \n",
      "Accuracy:\n",
      "1.0\n"
     ]
    }
   ],
   "source": [
    "with tf.Session() as sess:\n",
    "    merged_summary = tf.summary.merge_all()\n",
    "    writer = tf.summary.FileWriter(\"./logs/xor_logs_r0_01\")\n",
    "    writer.add_graph(sess.graph)\n",
    "\n",
    "    sess.run(tf.global_variables_initializer())\n",
    "\n",
    "    for step in range(10001):\n",
    "        _, summary, cost_val = sess.run(\n",
    "            [train, merged_summary, cost], feed_dict={X: x_data, Y: y_data}\n",
    "        )\n",
    "        writer.add_summary(summary, global_step=step)\n",
    "\n",
    "        if step % 100 == 0:\n",
    "            print(step, cost_val)\n",
    "\n",
    "    h, p, a = sess.run(\n",
    "        [hypothesis, predicted, accuracy], feed_dict={X: x_data, Y: y_data}\n",
    "    )\n",
    "    \n",
    "    print(f\"\\nHypothesis:\\n{h} \\nPredicted:\\n{p} \\nAccuracy:\\n{a}\")"
   ]
  },
  {
   "cell_type": "code",
   "execution_count": null,
   "metadata": {},
   "outputs": [],
   "source": []
  }
 ],
 "metadata": {
  "kernelspec": {
   "display_name": "Python 3",
   "language": "python",
   "name": "python3"
  },
  "language_info": {
   "codemirror_mode": {
    "name": "ipython",
    "version": 3
   },
   "file_extension": ".py",
   "mimetype": "text/x-python",
   "name": "python",
   "nbconvert_exporter": "python",
   "pygments_lexer": "ipython3",
   "version": "3.8.5"
  }
 },
 "nbformat": 4,
 "nbformat_minor": 4
}

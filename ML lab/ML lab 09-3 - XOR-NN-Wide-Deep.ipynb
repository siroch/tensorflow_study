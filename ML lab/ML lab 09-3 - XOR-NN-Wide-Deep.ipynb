{
 "cells": [
  {
   "cell_type": "code",
   "execution_count": 1,
   "metadata": {},
   "outputs": [
    {
     "name": "stdout",
     "output_type": "stream",
     "text": [
      "WARNING:tensorflow:From /usr/local/lib/python3.8/site-packages/tensorflow/python/compat/v2_compat.py:96: disable_resource_variables (from tensorflow.python.ops.variable_scope) is deprecated and will be removed in a future version.\n",
      "Instructions for updating:\n",
      "non-resource variables are not supported in the long term\n"
     ]
    }
   ],
   "source": [
    "import tensorflow.compat.v1 as tf\n",
    "import numpy as np\n",
    "tf.disable_v2_behavior() \n",
    "tf.set_random_seed(777)"
   ]
  },
  {
   "cell_type": "code",
   "execution_count": 2,
   "metadata": {},
   "outputs": [],
   "source": [
    "x_data = np.array([[0, 0], [0, 1], [1, 0], [1, 1]], dtype=np.float32)\n",
    "y_data = np.array([[0], [1], [1], [0]], dtype=np.float32)"
   ]
  },
  {
   "cell_type": "code",
   "execution_count": 3,
   "metadata": {},
   "outputs": [],
   "source": [
    "X = tf.placeholder(tf.float32, [None, 2])\n",
    "Y = tf.placeholder(tf.float32, [None, 1])\n",
    "\n",
    "W1 = tf.Variable(tf.random_normal([2, 10]), name='weight1')\n",
    "b1 = tf.Variable(tf.random_normal([10]), name='bias1')\n",
    "layer1 = tf.sigmoid(tf.matmul(X, W1) + b1)\n",
    "\n",
    "W2 = tf.Variable(tf.random_normal([10, 10]), name='weight2')\n",
    "b2 = tf.Variable(tf.random_normal([10]), name='bias2')\n",
    "layer2 = tf.sigmoid(tf.matmul(layer1, W2) + b2)\n",
    "\n",
    "W3 = tf.Variable(tf.random_normal([10, 10]), name='weight3')\n",
    "b3 = tf.Variable(tf.random_normal([10]), name='bias3')\n",
    "layer3 = tf.sigmoid(tf.matmul(layer2, W3) + b3)\n",
    "\n",
    "W4 = tf.Variable(tf.random_normal([10, 1]), name='weight4')\n",
    "b4 = tf.Variable(tf.random_normal([1]), name='bias4')\n",
    "hypothesis = tf.sigmoid(tf.matmul(layer3, W4) + b4)"
   ]
  },
  {
   "cell_type": "code",
   "execution_count": 4,
   "metadata": {},
   "outputs": [],
   "source": [
    "cost = -tf.reduce_mean(Y * tf.log(hypothesis) + (1 - Y) * tf.log(1 - hypothesis))\n",
    "train = tf.train.GradientDescentOptimizer(learning_rate=0.1).minimize(cost)"
   ]
  },
  {
   "cell_type": "code",
   "execution_count": 5,
   "metadata": {},
   "outputs": [],
   "source": [
    "predicted = tf.cast(hypothesis > 0.5, dtype=tf.float32)\n",
    "accuracy = tf.reduce_mean(tf.cast(tf.equal(predicted, Y), dtype=tf.float32))"
   ]
  },
  {
   "cell_type": "code",
   "execution_count": 6,
   "metadata": {},
   "outputs": [
    {
     "name": "stdout",
     "output_type": "stream",
     "text": [
      "0 0.8231934\n",
      "100 0.69192046\n",
      "200 0.68669546\n",
      "300 0.6811913\n",
      "400 0.6747199\n",
      "500 0.6663258\n",
      "600 0.6545699\n",
      "700 0.6373122\n",
      "800 0.61175644\n",
      "900 0.5750294\n",
      "1000 0.5240254\n",
      "1100 0.4538259\n",
      "1200 0.3619669\n",
      "1300 0.26118615\n",
      "1400 0.17597684\n",
      "1500 0.117930375\n",
      "1600 0.08203515\n",
      "1700 0.05992153\n",
      "1800 0.04578849\n",
      "1900 0.036327165\n",
      "2000 0.029707609\n",
      "2100 0.024894021\n",
      "2200 0.021277074\n",
      "2300 0.01848298\n",
      "2400 0.016273353\n",
      "2500 0.014490696\n",
      "2600 0.013027748\n",
      "2700 0.011809243\n",
      "2800 0.010781206\n",
      "2900 0.009904041\n",
      "3000 0.009148093\n",
      "3100 0.008490808\n",
      "3200 0.0079147685\n",
      "3300 0.007406379\n",
      "3400 0.006954763\n",
      "3500 0.0065512536\n",
      "3600 0.006188888\n",
      "3700 0.0058617834\n",
      "3800 0.0055653006\n",
      "3900 0.0052953498\n",
      "4000 0.0050487155\n",
      "4100 0.004822607\n",
      "4200 0.004614631\n",
      "4300 0.004422722\n",
      "4400 0.004245163\n",
      "4500 0.0040804353\n",
      "4600 0.0039272895\n",
      "4700 0.0037845378\n",
      "4800 0.0036511733\n",
      "4900 0.0035263542\n",
      "5000 0.0034093736\n",
      "5100 0.003299407\n",
      "5200 0.0031959275\n",
      "5300 0.0030984103\n",
      "5400 0.0030063004\n",
      "5500 0.0029191924\n",
      "5600 0.0028367708\n",
      "5700 0.0027585863\n",
      "5800 0.0026843837\n",
      "5900 0.0026138779\n",
      "6000 0.0025467544\n",
      "6100 0.0024828932\n",
      "6200 0.00242189\n",
      "6300 0.0023637142\n",
      "6400 0.0023081414\n",
      "6500 0.002254962\n",
      "6600 0.002204041\n",
      "6700 0.002155229\n",
      "6800 0.002108525\n",
      "6900 0.002063616\n",
      "7000 0.002020501\n",
      "7100 0.0019790605\n",
      "7200 0.0019392497\n",
      "7300 0.0019009187\n",
      "7400 0.0018639779\n",
      "7500 0.0018283974\n",
      "7600 0.0017940721\n",
      "7700 0.0017609575\n",
      "7800 0.0017290236\n",
      "7900 0.0016980912\n",
      "8000 0.0016682642\n",
      "8100 0.0016393786\n",
      "8200 0.0016114942\n",
      "8300 0.0015844017\n",
      "8400 0.0015582505\n",
      "8500 0.0015328908\n",
      "8600 0.0015082783\n",
      "8700 0.0014844274\n",
      "8800 0.0014612789\n",
      "8900 0.0014388172\n",
      "9000 0.0014169831\n",
      "9100 0.001395821\n",
      "9200 0.0013752563\n",
      "9300 0.0013551994\n",
      "9400 0.0013357102\n",
      "9500 0.0013168033\n",
      "9600 0.0012983144\n",
      "9700 0.001280393\n",
      "9800 0.0012629346\n",
      "9900 0.0012458346\n",
      "10000 0.001229302\n",
      "\n",
      "Hypothesis:  [[6.9555640e-04]\n",
      " [9.9852967e-01]\n",
      " [9.9888730e-01]\n",
      " [1.6345978e-03]] \n",
      "Correct:  [[0.]\n",
      " [1.]\n",
      " [1.]\n",
      " [0.]] \n",
      "Accuracy:  1.0\n"
     ]
    }
   ],
   "source": [
    "with tf.Session() as sess:\n",
    "    # Initialize TensorFlow variables\n",
    "    sess.run(tf.global_variables_initializer())\n",
    "\n",
    "    for step in range(10001):\n",
    "        _, cost_val = sess.run([train, cost], feed_dict={X: x_data, Y: y_data})\n",
    "        if step % 100 == 0:\n",
    "            print(step, cost_val)\n",
    "\n",
    "    # Accuracy report\n",
    "    h, c, a = sess.run(\n",
    "        [hypothesis, predicted, accuracy], feed_dict={X: x_data, Y: y_data}\n",
    "    )\n",
    "    print(\"\\nHypothesis: \", h, \"\\nCorrect: \", c, \"\\nAccuracy: \", a)"
   ]
  },
  {
   "cell_type": "code",
   "execution_count": null,
   "metadata": {},
   "outputs": [],
   "source": []
  }
 ],
 "metadata": {
  "kernelspec": {
   "display_name": "Python 3",
   "language": "python",
   "name": "python3"
  },
  "language_info": {
   "codemirror_mode": {
    "name": "ipython",
    "version": 3
   },
   "file_extension": ".py",
   "mimetype": "text/x-python",
   "name": "python",
   "nbconvert_exporter": "python",
   "pygments_lexer": "ipython3",
   "version": "3.8.5"
  }
 },
 "nbformat": 4,
 "nbformat_minor": 4
}

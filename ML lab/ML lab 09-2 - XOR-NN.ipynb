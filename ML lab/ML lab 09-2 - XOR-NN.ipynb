{
 "cells": [
  {
   "cell_type": "code",
   "execution_count": 1,
   "metadata": {},
   "outputs": [
    {
     "name": "stdout",
     "output_type": "stream",
     "text": [
      "WARNING:tensorflow:From /usr/local/lib/python3.8/site-packages/tensorflow/python/compat/v2_compat.py:96: disable_resource_variables (from tensorflow.python.ops.variable_scope) is deprecated and will be removed in a future version.\n",
      "Instructions for updating:\n",
      "non-resource variables are not supported in the long term\n"
     ]
    }
   ],
   "source": [
    "import tensorflow.compat.v1 as tf\n",
    "import numpy as np\n",
    "tf.disable_v2_behavior() \n",
    "tf.set_random_seed(777)"
   ]
  },
  {
   "cell_type": "code",
   "execution_count": 2,
   "metadata": {},
   "outputs": [],
   "source": [
    "x_data = np.array([[0, 0], [0, 1], [1, 0], [1, 1]], dtype=np.float32)\n",
    "y_data = np.array([[0], [1], [1], [0]], dtype=np.float32)"
   ]
  },
  {
   "cell_type": "code",
   "execution_count": 3,
   "metadata": {},
   "outputs": [],
   "source": [
    "X = tf.placeholder(tf.float32, [None, 2])\n",
    "Y = tf.placeholder(tf.float32, [None, 1])\n",
    "\n",
    "W1 = tf.Variable(tf.random_normal([2, 2]), name='weight1')\n",
    "b1 = tf.Variable(tf.random_normal([2]), name='bias1')\n",
    "layer1 = tf.sigmoid(tf.matmul(X, W1) + b1)\n",
    "\n",
    "W2 = tf.Variable(tf.random_normal([2, 1]), name='weight2')\n",
    "b2 = tf.Variable(tf.random_normal([1]), name='bias2')\n",
    "hypothesis = tf.sigmoid(tf.matmul(layer1, W2) + b2)"
   ]
  },
  {
   "cell_type": "code",
   "execution_count": 4,
   "metadata": {},
   "outputs": [],
   "source": [
    "cost = -tf.reduce_mean(Y * tf.log(hypothesis) + (1 - Y) * tf.log(1 - hypothesis))\n",
    "train = tf.train.GradientDescentOptimizer(learning_rate=0.1).minimize(cost)"
   ]
  },
  {
   "cell_type": "code",
   "execution_count": 5,
   "metadata": {},
   "outputs": [],
   "source": [
    "predicted = tf.cast(hypothesis > 0.5, dtype=tf.float32)\n",
    "accuracy = tf.reduce_mean(tf.cast(tf.equal(predicted, Y), dtype=tf.float32))"
   ]
  },
  {
   "cell_type": "code",
   "execution_count": 6,
   "metadata": {},
   "outputs": [
    {
     "name": "stdout",
     "output_type": "stream",
     "text": [
      "0 0.9766817\n",
      "100 0.69698393\n",
      "200 0.69477135\n",
      "300 0.6933729\n",
      "400 0.6923421\n",
      "500 0.6914946\n",
      "600 0.6907173\n",
      "700 0.68993187\n",
      "800 0.6890757\n",
      "900 0.6880908\n",
      "1000 0.6869173\n",
      "1100 0.6854893\n",
      "1200 0.68373203\n",
      "1300 0.68155986\n",
      "1400 0.67887545\n",
      "1500 0.6755705\n",
      "1600 0.6715274\n",
      "1700 0.6666272\n",
      "1800 0.6607612\n",
      "1900 0.6538513\n",
      "2000 0.6458726\n",
      "2100 0.6368735\n",
      "2200 0.6269826\n",
      "2300 0.61639714\n",
      "2400 0.60535514\n",
      "2500 0.5940991\n",
      "2600 0.58284575\n",
      "2700 0.5717671\n",
      "2800 0.5609853\n",
      "2900 0.5505785\n",
      "3000 0.54059184\n",
      "3100 0.53104854\n",
      "3200 0.5219583\n",
      "3300 0.51332337\n",
      "3400 0.5051417\n",
      "3500 0.49740738\n",
      "3600 0.49011156\n",
      "3700 0.48324305\n",
      "3800 0.4767872\n",
      "3900 0.47072738\n",
      "4000 0.46504518\n",
      "4100 0.4597203\n",
      "4200 0.45473218\n",
      "4300 0.45005977\n",
      "4400 0.44568235\n",
      "4500 0.44157934\n",
      "4600 0.43773147\n",
      "4700 0.43412\n",
      "4800 0.43072718\n",
      "4900 0.4275366\n",
      "5000 0.42453244\n",
      "5100 0.42170027\n",
      "5200 0.41902658\n",
      "5300 0.41649857\n",
      "5400 0.4141042\n",
      "5500 0.41183227\n",
      "5600 0.40967217\n",
      "5700 0.40761396\n",
      "5800 0.40564764\n",
      "5900 0.4037637\n",
      "6000 0.40195268\n",
      "6100 0.400205\n",
      "6200 0.39851096\n",
      "6300 0.39685956\n",
      "6400 0.39523938\n",
      "6500 0.39363706\n",
      "6600 0.39203706\n",
      "6700 0.39042038\n",
      "6800 0.38876322\n",
      "6900 0.38703436\n",
      "7000 0.38519225\n",
      "7100 0.38317907\n",
      "7200 0.38091183\n",
      "7300 0.37826738\n",
      "7400 0.37505615\n",
      "7500 0.37097415\n",
      "7600 0.3655121\n",
      "7700 0.3577781\n",
      "7800 0.346172\n",
      "7900 0.32793903\n",
      "8000 0.2995382\n",
      "8100 0.2608047\n",
      "8200 0.21985908\n",
      "8300 0.18545501\n",
      "8400 0.15945074\n",
      "8500 0.14014447\n",
      "8600 0.12557013\n",
      "8700 0.114271864\n",
      "8800 0.105266765\n",
      "8900 0.09790154\n",
      "9000 0.09173852\n",
      "9100 0.08647942\n",
      "9200 0.0819169\n",
      "9300 0.07790348\n",
      "9400 0.07433204\n",
      "9500 0.07112311\n",
      "9600 0.068216294\n",
      "9700 0.06556495\n",
      "9800 0.06313238\n",
      "9900 0.06088925\n",
      "10000 0.05881173\n",
      "\n",
      "Hypothesis:\n",
      "[[0.05478674]\n",
      " [0.9434907 ]\n",
      " [0.92528903]\n",
      " [0.04209295]] \n",
      "Predicted:\n",
      "[[0.]\n",
      " [1.]\n",
      " [1.]\n",
      " [0.]] \n",
      "Accuracy:\n",
      "1.0\n"
     ]
    }
   ],
   "source": [
    "with tf.Session() as sess:\n",
    "    # Initialize TensorFlow variables\n",
    "    sess.run(tf.global_variables_initializer())\n",
    "\n",
    "    for step in range(10001):\n",
    "        _, cost_val = sess.run([train, cost], feed_dict={X: x_data, Y: y_data})\n",
    "        if step % 100 == 0:\n",
    "            print(step, cost_val)\n",
    "\n",
    "    # Accuracy report\n",
    "    h, p, a = sess.run(\n",
    "        [hypothesis, predicted, accuracy], feed_dict={X: x_data, Y: y_data}\n",
    "    )\n",
    "    \n",
    "    print(f\"\\nHypothesis:\\n{h} \\nPredicted:\\n{p} \\nAccuracy:\\n{a}\")"
   ]
  },
  {
   "cell_type": "code",
   "execution_count": null,
   "metadata": {},
   "outputs": [],
   "source": []
  }
 ],
 "metadata": {
  "kernelspec": {
   "display_name": "Python 3",
   "language": "python",
   "name": "python3"
  },
  "language_info": {
   "codemirror_mode": {
    "name": "ipython",
    "version": 3
   },
   "file_extension": ".py",
   "mimetype": "text/x-python",
   "name": "python",
   "nbconvert_exporter": "python",
   "pygments_lexer": "ipython3",
   "version": "3.8.5"
  }
 },
 "nbformat": 4,
 "nbformat_minor": 4
}

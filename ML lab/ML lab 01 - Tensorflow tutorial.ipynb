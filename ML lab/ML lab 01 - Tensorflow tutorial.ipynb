{
 "cells": [
  {
   "cell_type": "code",
   "execution_count": 28,
   "metadata": {},
   "outputs": [
    {
     "data": {
      "text/plain": [
       "'2.3.0'"
      ]
     },
     "execution_count": 28,
     "metadata": {},
     "output_type": "execute_result"
    }
   ],
   "source": [
    "import tensorflow.compat.v1 as tf\n",
    "tf.__version__\n",
    "\"\"\"\n",
    "업그레이드 된 버전으로는 계속 에러가 나서 일단 공부를 하기위해 대체\n",
    "\"\"\""
   ]
  },
  {
   "cell_type": "code",
   "execution_count": 20,
   "metadata": {},
   "outputs": [
    {
     "name": "stdout",
     "output_type": "stream",
     "text": [
      "b'HelloWorld!'\n"
     ]
    },
    {
     "data": {
      "text/plain": [
       "'\\nhello = tf.constant(\"Hello, TensorFlow!\")\\nsess = tf.Session()\\nprint(sess.run(hello))\\n\\nhttps://github.com/hunkim/DeepLearningZeroToAll/blob/master/lab-01-basics.ipynb\\nhttps://www.youtube.com/watch?v=-57Ne86Ia8w&list=PLlMkM4tgfjnLSOjrEJN31gZATbcj_MpUm&index=3\\n\\n위 코드는 해당 링크의 내용이지만 Tensorflow의 버전차이로 인해 오류가 생긴것같아 다른 코드로 대체\\n'"
      ]
     },
     "execution_count": 20,
     "metadata": {},
     "output_type": "execute_result"
    }
   ],
   "source": [
    "with tf.Session() as sess:\n",
    "  h = tf.constant(\"Hello\")\n",
    "  w = tf.constant(\"World!\")\n",
    "  hw = h + w\n",
    "  ans = sess.run(hw)\n",
    "  print(ans)\n",
    "\"\"\"\n",
    "hello = tf.constant(\"Hello, TensorFlow!\")\n",
    "sess = tf.Session()\n",
    "print(sess.run(hello))\n",
    "\n",
    "https://github.com/hunkim/DeepLearningZeroToAll/blob/master/lab-01-basics.ipynb\n",
    "https://www.youtube.com/watch?v=-57Ne86Ia8w&list=PLlMkM4tgfjnLSOjrEJN31gZATbcj_MpUm&index=3\n",
    "\n",
    "위 코드는 해당 링크의 내용이지만 Tensorflow의 버전차이로 인해 오류가 생긴것같아 다른 코드로 대체\n",
    "\"\"\""
   ]
  },
  {
   "cell_type": "code",
   "execution_count": 21,
   "metadata": {},
   "outputs": [
    {
     "data": {
      "text/plain": [
       "[[[1.0, 2.0, 3.0]], [[7.0, 8.0, 9.0]]]"
      ]
     },
     "execution_count": 21,
     "metadata": {},
     "output_type": "execute_result"
    }
   ],
   "source": [
    "3\n",
    "[1. ,2. ,3.]\n",
    "[[1., 2., 3.], [4., 5., 6.]]\n",
    "[[[1., 2., 3.]], [[7., 8., 9.]]]"
   ]
  },
  {
   "cell_type": "code",
   "execution_count": 22,
   "metadata": {},
   "outputs": [],
   "source": [
    "node1 = tf.constant(3.0, tf.float32)\n",
    "node2 = tf.constant(4.0)\n",
    "node3 = tf.add(node1, node2)"
   ]
  },
  {
   "cell_type": "code",
   "execution_count": 23,
   "metadata": {},
   "outputs": [
    {
     "name": "stdout",
     "output_type": "stream",
     "text": [
      "node1: tf.Tensor(3.0, shape=(), dtype=float32) node2: tf.Tensor(4.0, shape=(), dtype=float32)\n",
      "node3:  tf.Tensor(7.0, shape=(), dtype=float32)\n"
     ]
    }
   ],
   "source": [
    "print(\"node1:\", node1, \"node2:\", node2)\n",
    "print(\"node3: \", node3)"
   ]
  },
  {
   "cell_type": "code",
   "execution_count": 32,
   "metadata": {},
   "outputs": [
    {
     "name": "stdout",
     "output_type": "stream",
     "text": [
      "[3.0, 4.0]\n",
      "7.0\n"
     ]
    },
    {
     "data": {
      "text/plain": [
       "'\\n마찬가지로 오류로 인해 조금 구성을 바꿈, 답은 같게 나온다.\\n'"
      ]
     },
     "execution_count": 32,
     "metadata": {},
     "output_type": "execute_result"
    }
   ],
   "source": [
    "with tf.Session() as sess:\n",
    "  node1 = tf.constant(3.0, tf.float32)\n",
    "  node2 = tf.constant(4.0)\n",
    "  node3 = tf.add(node1, node2)\n",
    "  ans1 = sess.run([node1, node2])\n",
    "  ans2 = sess.run(node3)\n",
    "  print(ans1)\n",
    "  print(ans2)\n",
    "\"\"\"\n",
    "마찬가지로 오류로 인해 조금 구성을 바꿈, 답은 같게 나온다.\n",
    "\"\"\""
   ]
  },
  {
   "cell_type": "code",
   "execution_count": 31,
   "metadata": {},
   "outputs": [
    {
     "name": "stdout",
     "output_type": "stream",
     "text": [
      "7.5\n",
      "[3. 7.]\n"
     ]
    },
    {
     "data": {
      "text/plain": [
       "'\\n위 내용들과 동일\\n'"
      ]
     },
     "execution_count": 31,
     "metadata": {},
     "output_type": "execute_result"
    }
   ],
   "source": [
    "with tf.Session() as sess:\n",
    "  a = tf.placeholder(tf.float32)\n",
    "  b = tf.placeholder(tf.float32)\n",
    "  adder_node = a + b\n",
    "  ans1 = sess.run(adder_node, feed_dict={a: 3, b: 4.5})\n",
    "  ans2 = sess.run(adder_node, feed_dict={a: [1,3], b: [2, 4]})\n",
    "  print(ans1)\n",
    "  print(ans2)\n",
    "\"\"\"\n",
    "위 내용들과 동일\n",
    "\"\"\""
   ]
  },
  {
   "cell_type": "code",
   "execution_count": 30,
   "metadata": {},
   "outputs": [
    {
     "name": "stdout",
     "output_type": "stream",
     "text": [
      "22.5\n"
     ]
    }
   ],
   "source": [
    "with tf.Session() as sess:\n",
    "  add_and_triple = adder_node * 3.\n",
    "  ans = sess.run(add_and_triple, feed_dict={a: 3, b:4.5})\n",
    "  print(ans)"
   ]
  },
  {
   "cell_type": "code",
   "execution_count": null,
   "metadata": {},
   "outputs": [],
   "source": [
    "\"\"\"\n",
    "with tf.Session() as sess:\n",
    "해당 문법은 with 블럭이 끝나면 해당 객체를 파괴한다고 한다. \n",
    "외부에서 Session이 필요하다면 with 문법을 쓰면 안된다 라고 한다\n",
    "\"\"\""
   ]
  }
 ],
 "metadata": {
  "kernelspec": {
   "display_name": "Python 3",
   "language": "python",
   "name": "python3"
  },
  "language_info": {
   "codemirror_mode": {
    "name": "ipython",
    "version": 3
   },
   "file_extension": ".py",
   "mimetype": "text/x-python",
   "name": "python",
   "nbconvert_exporter": "python",
   "pygments_lexer": "ipython3",
   "version": "3.8.5"
  }
 },
 "nbformat": 4,
 "nbformat_minor": 4
}
